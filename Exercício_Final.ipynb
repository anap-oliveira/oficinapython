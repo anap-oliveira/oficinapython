{
  "nbformat": 4,
  "nbformat_minor": 0,
  "metadata": {
    "colab": {
      "provenance": [],
      "include_colab_link": true
    },
    "kernelspec": {
      "name": "python3",
      "display_name": "Python 3"
    },
    "language_info": {
      "name": "python"
    }
  },
  "cells": [
    {
      "cell_type": "markdown",
      "metadata": {
        "id": "view-in-github",
        "colab_type": "text"
      },
      "source": [
        "<a href=\"https://colab.research.google.com/github/anap-oliveira/oficinapython/blob/main/Exerc%C3%ADcio_Final.ipynb\" target=\"_parent\"><img src=\"https://colab.research.google.com/assets/colab-badge.svg\" alt=\"Open In Colab\"/></a>"
      ]
    },
    {
      "cell_type": "markdown",
      "source": [
        "# Contagem de Medalhas\n",
        "\n",
        "Crie um programa que receba o número de medalhas de ouro, prata e bronze de um país nas Olimpíadas e calcule o total de medalhas.\n",
        "Quando escrever 'sair', o programa deverá encerrar e mostrar na tela o ranking de medalhas no formato:"
      ],
      "metadata": {
        "id": "RQN1e5FZY6SZ"
      }
    },
    {
      "cell_type": "code",
      "source": [
        "#Ranking de medalhas:\n",
        "#Brasil: 7 medalhas\n",
        "#França: 6 medalhas\n",
        "#Argentina: 3 medalhas"
      ],
      "metadata": {
        "id": "gCq_KLHzZSzb"
      },
      "execution_count": 1,
      "outputs": []
    },
    {
      "cell_type": "code",
      "execution_count": 4,
      "metadata": {
        "id": "AJJhjxiPTd5s"
      },
      "outputs": [],
      "source": [
        "# Resposta aqui"
      ]
    },
    {
      "cell_type": "code",
      "source": [
        "#float(input(\"Digite o segundo valor: \"))\n",
        "\n",
        "Pais1 = input('Digite o nome do País ou Sair para encerrar: ')\n",
        "Ouro = float(input('Quantas medalhas de ouro? '))\n",
        "Prata = float(input('Quantas medalhas de prata? '))\n",
        "Bronze = float(input('Quantas medalhas de bronze? '))\n",
        "total1 = Ouro + Prata + Bronze\n",
        "print(total1)\n",
        "\n",
        "Pais2 = input('Digite o nome do País ou Sair para encerrar: ')\n",
        "Ouro = float(input('Quantas medalhas de ouro? '))\n",
        "Prata = float(input('Quantas medalhas de prata? '))\n",
        "Bronze = float(input('Quantas medalhas de bronze? '))\n",
        "total2 = Ouro + Prata + Bronze\n",
        "print(total2)\n",
        "\n",
        "Pais3 = input('Digite o nome do País ou Sair para encerrar: ')\n",
        "Ouro = float(input('Quantas medalhas de ouro? '))\n",
        "Prata = float(input('Quantas medalhas de prata? '))\n",
        "Bronze = float(input('Quantas medalhas de bronze? '))\n",
        "total3 = Ouro + Prata + Bronze\n",
        "print(total3)\n",
        "\n",
        "Total_medalhas = float(total1 + total2 + total3)\n",
        "\n",
        "print('Ranking de Medalhas')\n",
        "\n",
        "print(total1)\n",
        "print(total2)\n",
        "print(total3)\n",
        "\n"
      ],
      "metadata": {
        "colab": {
          "base_uri": "https://localhost:8080/"
        },
        "id": "QTM301r8vtwB",
        "outputId": "3919bd76-0db6-4ba4-9308-38fee0caccec"
      },
      "execution_count": 24,
      "outputs": [
        {
          "output_type": "stream",
          "name": "stdout",
          "text": [
            "Digite o nome do País ou Sair para encerrar: a\n",
            "Quantas medalhas de ouro? 5\n",
            "Quantas medalhas de prata? 6\n",
            "Quantas medalhas de bronze? 2\n",
            "13.0\n",
            "Digite o nome do País ou Sair para encerrar: 9\n",
            "Quantas medalhas de ouro? 6\n",
            "Quantas medalhas de prata? 4\n",
            "Quantas medalhas de bronze? 4\n",
            "14.0\n",
            "Digite o nome do País ou Sair para encerrar: d\n",
            "Quantas medalhas de ouro? 8\n",
            "Quantas medalhas de prata? 7\n",
            "Quantas medalhas de bronze? 1\n",
            "16.0\n",
            "Ranking de Medalhas\n",
            "13.0\n",
            "14.0\n",
            "16.0\n"
          ]
        }
      ]
    }
  ]
}