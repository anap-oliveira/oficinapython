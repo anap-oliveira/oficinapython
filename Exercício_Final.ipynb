{
  "nbformat": 4,
  "nbformat_minor": 0,
  "metadata": {
    "colab": {
      "provenance": [],
      "include_colab_link": true
    },
    "kernelspec": {
      "name": "python3",
      "display_name": "Python 3"
    },
    "language_info": {
      "name": "python"
    }
  },
  "cells": [
    {
      "cell_type": "markdown",
      "metadata": {
        "id": "view-in-github",
        "colab_type": "text"
      },
      "source": [
        "<a href=\"https://colab.research.google.com/github/anap-oliveira/oficinapython/blob/main/Exerc%C3%ADcio_Final.ipynb\" target=\"_parent\"><img src=\"https://colab.research.google.com/assets/colab-badge.svg\" alt=\"Open In Colab\"/></a>"
      ]
    },
    {
      "cell_type": "markdown",
      "source": [
        "# Contagem de Medalhas\n",
        "\n",
        "Crie um programa que receba o número de medalhas de ouro, prata e bronze de um país nas Olimpíadas e calcule o total de medalhas.\n",
        "Quando escrever 'sair', o programa deverá encerrar e mostrar na tela o ranking de medalhas no formato:"
      ],
      "metadata": {
        "id": "RQN1e5FZY6SZ"
      }
    },
    {
      "cell_type": "code",
      "source": [
        "#Ranking de medalhas:\n",
        "#Brasil: 7 medalhas\n",
        "#França: 6 medalhas\n",
        "#Argentina: 3 medalhas"
      ],
      "metadata": {
        "id": "gCq_KLHzZSzb"
      },
      "execution_count": 1,
      "outputs": []
    },
    {
      "cell_type": "code",
      "execution_count": 4,
      "metadata": {
        "id": "AJJhjxiPTd5s"
      },
      "outputs": [],
      "source": [
        "# Resposta aqui"
      ]
    },
    {
      "cell_type": "code",
      "source": [
        "#float(input(\"Digite o segundo valor: \"))\n",
        "\n",
        "Pais1 = input('Digite o nome do País ou Sair para encerrar: ')\n",
        "Ouro = float(input('Quantas medalhas de ouro? '))\n",
        "Prata = float(input('Quantas medalhas de prata? '))\n",
        "Bronze = float(input('Quantas medalhas de bronze? '))\n",
        "total1 = Ouro + Prata + Bronze\n",
        "print(total1)\n",
        "\n",
        "Pais2 = input('Digite o nome do País ou Sair para encerrar: ')\n",
        "Ouro = float(input('Quantas medalhas de ouro? '))\n",
        "Prata = float(input('Quantas medalhas de prata? '))\n",
        "Bronze = float(input('Quantas medalhas de bronze? '))\n",
        "total2 = Ouro + Prata + Bronze\n",
        "print(total2)\n",
        "\n",
        "Pais3 = input('Digite o nome do País ou Sair para encerrar: ')\n",
        "Ouro = float(input('Quantas medalhas de ouro? '))\n",
        "Prata = float(input('Quantas medalhas de prata? '))\n",
        "Bronze = float(input('Quantas medalhas de bronze? '))\n",
        "total3 = Ouro + Prata + Bronze\n",
        "print(total3)\n",
        "\n",
        "Total_medalhas = float(total1 + total2 + total3)\n",
        "\n",
        "print('Ranking de Medalhas')\n",
        "\n",
        "print(total1)\n",
        "print(total2)\n",
        "print(total3)\n",
        "\n"
      ],
      "metadata": {
        "id": "QTM301r8vtwB",
        "outputId": "e07107a1-53a0-4e6f-f7a8-7b0de2d414fb",
        "colab": {
          "base_uri": "https://localhost:8080/",
          "height": 506
        }
      },
      "execution_count": 23,
      "outputs": [
        {
          "output_type": "stream",
          "name": "stdout",
          "text": [
            "Digite o nome do País ou Sair para encerrar: a\n",
            "Quantas medalhas de ouro? 3\n",
            "Quantas medalhas de prata? 9\n",
            "Quantas medalhas de bronze? 5\n",
            "17.0\n",
            "Digite o nome do País ou Sair para encerrar: f\n",
            "Quantas medalhas de ouro? 4\n",
            "Quantas medalhas de prata? 8\n",
            "Quantas medalhas de bronze? 6\n",
            "18.0\n",
            "Digite o nome do País ou Sair para encerrar: g\n",
            "Quantas medalhas de ouro? 9\n",
            "Quantas medalhas de prata? 9\n",
            "Quantas medalhas de bronze? 9\n",
            "27.0\n",
            "Ranking de Medalhas\n",
            "17.0\n"
          ]
        },
        {
          "output_type": "error",
          "ename": "TypeError",
          "evalue": "'NoneType' object is not callable",
          "traceback": [
            "\u001b[0;31m---------------------------------------------------------------------------\u001b[0m",
            "\u001b[0;31mTypeError\u001b[0m                                 Traceback (most recent call last)",
            "\u001b[0;32m<ipython-input-23-33394e279d53>\u001b[0m in \u001b[0;36m<cell line: 28>\u001b[0;34m()\u001b[0m\n\u001b[1;32m     26\u001b[0m \u001b[0mprint\u001b[0m\u001b[0;34m(\u001b[0m\u001b[0;34m'Ranking de Medalhas'\u001b[0m\u001b[0;34m)\u001b[0m\u001b[0;34m\u001b[0m\u001b[0;34m\u001b[0m\u001b[0m\n\u001b[1;32m     27\u001b[0m \u001b[0;34m\u001b[0m\u001b[0m\n\u001b[0;32m---> 28\u001b[0;31m \u001b[0mprint\u001b[0m\u001b[0;34m(\u001b[0m\u001b[0mtotal1\u001b[0m\u001b[0;34m)\u001b[0m \u001b[0;34m(\u001b[0m\u001b[0;34m'Medalhas'\u001b[0m\u001b[0;34m)\u001b[0m\u001b[0;34m\u001b[0m\u001b[0;34m\u001b[0m\u001b[0m\n\u001b[0m\u001b[1;32m     29\u001b[0m \u001b[0mprint\u001b[0m\u001b[0;34m(\u001b[0m\u001b[0mtotal2\u001b[0m\u001b[0;34m)\u001b[0m \u001b[0;34m(\u001b[0m\u001b[0;34m'Medalhas'\u001b[0m\u001b[0;34m)\u001b[0m\u001b[0;34m\u001b[0m\u001b[0;34m\u001b[0m\u001b[0m\n\u001b[1;32m     30\u001b[0m \u001b[0mprint\u001b[0m\u001b[0;34m(\u001b[0m\u001b[0mtotal3\u001b[0m\u001b[0;34m)\u001b[0m \u001b[0;34m(\u001b[0m\u001b[0;34m'Medalhas'\u001b[0m\u001b[0;34m)\u001b[0m\u001b[0;34m\u001b[0m\u001b[0;34m\u001b[0m\u001b[0m\n",
            "\u001b[0;31mTypeError\u001b[0m: 'NoneType' object is not callable"
          ]
        }
      ]
    }
  ]
}